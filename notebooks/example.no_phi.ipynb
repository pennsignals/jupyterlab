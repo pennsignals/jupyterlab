{
 "cells": [
  {
   "cell_type": "code",
   "execution_count": null,
   "id": "6c6b7d6c-9c64-4b1e-96ae-041b57553f1e",
   "metadata": {},
   "outputs": [],
   "source": [
    "from os import getenv\n",
    "\n",
    "from cfgenvy import Parser\n",
    "from dsdk import Mssql, Postgres"
   ]
  },
  {
   "cell_type": "code",
   "execution_count": null,
   "id": "441af938-897d-4ebf-8d7a-0fbbc32791b7",
   "metadata": {},
   "outputs": [],
   "source": [
    "Postgres.as_yaml_type()\n",
    "Mssql.as_yaml_type()"
   ]
  },
  {
   "cell_type": "code",
   "execution_count": null,
   "id": "2fa5fa9d-d632-4170-8a87-428319b12cd6",
   "metadata": {},
   "outputs": [],
   "source": [
    "postgres = Parser.load(\n",
    "    config_file=\"/tmp/local/postgres.yaml\", env_file=getenv(\"SECRETS\")\n",
    ")"
   ]
  },
  {
   "cell_type": "code",
   "execution_count": null,
   "id": "53aef3a6-e97c-42cf-bc15-93186d0ecd62",
   "metadata": {},
   "outputs": [],
   "source": [
    "mssql = Parser.load(config_file=\"/tmp/local/mssql.yaml\", env_file=getenv(\"SECRETS\"))"
   ]
  },
  {
   "cell_type": "code",
   "execution_count": null,
   "id": "0075ff60-ae37-4ab0-996a-83eaf2df8fd0",
   "metadata": {},
   "outputs": [],
   "source": []
  }
 ],
 "metadata": {
  "kernelspec": {
   "display_name": "Python [conda env:root] *",
   "language": "python",
   "name": "conda-root-py"
  },
  "language_info": {
   "codemirror_mode": {
    "name": "ipython",
    "version": 3
   },
   "file_extension": ".py",
   "mimetype": "text/x-python",
   "name": "python",
   "nbconvert_exporter": "python",
   "pygments_lexer": "ipython3",
   "version": "3.9.13"
  }
 },
 "nbformat": 4,
 "nbformat_minor": 5
}
